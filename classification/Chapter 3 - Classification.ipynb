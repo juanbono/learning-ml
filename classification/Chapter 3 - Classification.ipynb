{
 "cells": [
  {
   "cell_type": "markdown",
   "metadata": {},
   "source": [
    "# Classification Problems\n",
    "\n",
    "First I'll download the MNIST dataset.\n",
    "The MNIST dataset is a set of 70.000 small images of digits handwritten by high school students and employees of the US Census Bureau.\n",
    "\n",
    "Each image is labeled with the digit it represents."
   ]
  },
  {
   "cell_type": "code",
   "execution_count": 103,
   "metadata": {},
   "outputs": [],
   "source": [
    "import warnings\n",
    "warnings.filterwarnings('ignore')\n",
    "\n",
    "# Download the MNIST dataset with the functions provided by Scikit Learn.\n",
    "from sklearn.datasets import fetch_mldata\n",
    "mnist_data = fetch_mldata('MNIST original')"
   ]
  },
  {
   "cell_type": "code",
   "execution_count": 69,
   "metadata": {},
   "outputs": [
    {
     "data": {
      "text/plain": [
       "{'DESCR': 'mldata.org dataset: mnist-original',\n",
       " 'COL_NAMES': ['label', 'data'],\n",
       " 'target': array([0., 0., 0., ..., 9., 9., 9.]),\n",
       " 'data': array([[0, 0, 0, ..., 0, 0, 0],\n",
       "        [0, 0, 0, ..., 0, 0, 0],\n",
       "        [0, 0, 0, ..., 0, 0, 0],\n",
       "        ...,\n",
       "        [0, 0, 0, ..., 0, 0, 0],\n",
       "        [0, 0, 0, ..., 0, 0, 0],\n",
       "        [0, 0, 0, ..., 0, 0, 0]], dtype=uint8)}"
      ]
     },
     "execution_count": 69,
     "metadata": {},
     "output_type": "execute_result"
    }
   ],
   "source": [
    "mnist_data # Show the mnist_data"
   ]
  },
  {
   "cell_type": "markdown",
   "metadata": {},
   "source": [
    "Information about each key of the dataset's map:\n",
    "  * 'DESCR': Description of the dataset\n",
    "  * 'data': Contains an array with one row per instance and one column per feature.\n",
    "  * 'target': Contains an array with the labels\n"
   ]
  },
  {
   "cell_type": "code",
   "execution_count": 70,
   "metadata": {},
   "outputs": [],
   "source": [
    "data, labels = mnist_data['data'], mnist_data['target'] # separate the data and the labels"
   ]
  },
  {
   "cell_type": "code",
   "execution_count": 71,
   "metadata": {},
   "outputs": [
    {
     "data": {
      "text/plain": [
       "(70000, 784)"
      ]
     },
     "execution_count": 71,
     "metadata": {},
     "output_type": "execute_result"
    }
   ],
   "source": [
    "data.shape # the data consists of 70.000 images and 784 features (in this case each feature is a pixel)"
   ]
  },
  {
   "cell_type": "code",
   "execution_count": 72,
   "metadata": {},
   "outputs": [
    {
     "data": {
      "text/plain": [
       "(70000,)"
      ]
     },
     "execution_count": 72,
     "metadata": {},
     "output_type": "execute_result"
    }
   ],
   "source": [
    "labels.shape # there are 70.000 labels (one for each image, so for a given number n: data[n] represents label[n])"
   ]
  },
  {
   "cell_type": "code",
   "execution_count": 73,
   "metadata": {
    "scrolled": true
   },
   "outputs": [
    {
     "data": {
      "image/png": "[encoded data removed]",
      "text/plain": [
       "<Figure size 432x288 with 1 Axes>"
      ]
     },
     "metadata": {
      "needs_background": "light"
     },
     "output_type": "display_data"
    }
   ],
   "source": [
    "%matplotlib inline\n",
    "import matplotlib\n",
    "import matplotlib.pyplot as plt\n",
    "\n",
    "some_digit = data[36000] # choose a random image from the dataset\n",
    "some_digit_image = some_digit.reshape(28, 28) # reshape it to a 28x28 image.\n",
    "\n",
    "plt.imshow(some_digit_image, cmap = matplotlib.cm.binary, interpolation = 'nearest')\n",
    "plt.axis('off')\n",
    "plt.show()"
   ]
  },
  {
   "cell_type": "code",
   "execution_count": 74,
   "metadata": {},
   "outputs": [
    {
     "data": {
      "text/plain": [
       "5.0"
      ]
     },
     "execution_count": 74,
     "metadata": {},
     "output_type": "execute_result"
    }
   ],
   "source": [
    "labels[36000] # let's check the label for that image!"
   ]
  },
  {
   "cell_type": "markdown",
   "metadata": {},
   "source": [
    "Now we need to create a test set and a training set for each array. The MNIST dataset is already separated, the first 60.000 images are the training set and the last 10.000 images are the train set.\n",
    "\n",
    "Then we need to shuffle the training set, this will guarantee that all cross-validation folds will be similar.\n",
    "Some algorithms are sensitive to the order of the training instances and they perform poorly if they get many similiar instances in a row. Shuffling the dataset ensures this won't happen. But shuffling is not a silver bullet. In some contexts you can't shuffle the dataset because of the nature of the dataset (times series data, like stock market prices and weather related data)."
   ]
  },
  {
   "cell_type": "code",
   "execution_count": 75,
   "metadata": {},
   "outputs": [],
   "source": [
    "data_train, data_test, labels_train, labels_test = data[:60000], data[60000:], labels[:60000], labels[60000:]"
   ]
  },
  {
   "cell_type": "code",
   "execution_count": 85,
   "metadata": {},
   "outputs": [],
   "source": [
    "# shuffling\n",
    "import numpy as np\n",
    "\n",
    "shuffle_index = np.random.permutation(60000) # generate a random permutation of the indices\n",
    "data_train, labels_train = data_train[shuffle_index], labels_train[shuffle_index] # permutate the elements"
   ]
  },
  {
   "cell_type": "markdown",
   "metadata": {},
   "source": [
    "## Training a Binary Classifier\n",
    "\n",
    "Let's train a binary classifier that detects if a given image is a 5 or not.\n",
    "For that task we are going to use a Stochastic Gradient Descent (SGD) classifier using the SGDClassifer class from Scikit-Learn.\n",
    "This classifier can handle a lot of data efficiently. It's also suitable for online learning."
   ]
  },
  {
   "cell_type": "code",
   "execution_count": 86,
   "metadata": {},
   "outputs": [],
   "source": [
    "labels_train_5 = (labels_train == 5) # gets an array of booleans telling if each element is equal to five\n",
    "labels_test_5 = (labels_test == 5)"
   ]
  },
  {
   "cell_type": "code",
   "execution_count": 106,
   "metadata": {},
   "outputs": [
    {
     "data": {
      "text/plain": [
       "SGDClassifier(alpha=0.0001, average=False, class_weight=None, epsilon=0.1,\n",
       "       eta0=0.0, fit_intercept=True, l1_ratio=0.15,\n",
       "       learning_rate='optimal', loss='hinge', max_iter=None, n_iter=None,\n",
       "       n_jobs=1, penalty='l2', power_t=0.5, random_state=42, shuffle=True,\n",
       "       tol=None, verbose=0, warm_start=False)"
      ]
     },
     "execution_count": 106,
     "metadata": {},
     "output_type": "execute_result"
    }
   ],
   "source": [
    "from sklearn.linear_model import SGDClassifier\n",
    "\n",
    "RANDOM_STATE = 42 # fix the state to get reproducible results\n",
    "\n",
    "sgd_classifier = SGDClassifier(random_state = RANDOM_STATE)\n",
    "sgd_classifier.fit(data_train, labels_train_5) # trains the model"
   ]
  },
  {
   "cell_type": "code",
   "execution_count": 89,
   "metadata": {},
   "outputs": [
    {
     "data": {
      "text/plain": [
       "array([ True])"
      ]
     },
     "execution_count": 89,
     "metadata": {},
     "output_type": "execute_result"
    }
   ],
   "source": [
    "sgd_classifier.predict([some_digit]) # it works!"
   ]
  },
  {
   "cell_type": "markdown",
   "metadata": {},
   "source": [
    "## Performance Measures\n",
    "\n",
    "### Measuring Accuracy Using Cross-Validation\n",
    "\n",
    "#### K-Fold Cross-Validation\n",
    "In k-fold cross validation the original training set is partitioned into k subsets (named folds) of size $ m/k $ (for simplicity, assume that $ m/k $ is an integer). For each fold, the algorithm is trained on the union of the other folds and then the error of its output is estimated using the fold. Finally, the average of all of these errors is the estimate of the true error. \n",
    "K-Fold cross validation is often used for model selection and parameter tuning. Once the best parameter is chosen, the algorithm is retrained using this parameter on the entire training set.\n",
    "\n",
    "The StratifiedKFold class performs stratified sampling to produce folds that contain a representative ratio of each class. At each iteration the code creates a clone of the classifier, trains that clone on the training folds and makes predictions on the test fold. Then it counts the number of correct predictions and outputs the ratio of correct predictions."
   ]
  },
  {
   "cell_type": "code",
   "execution_count": 105,
   "metadata": {},
   "outputs": [
    {
     "name": "stdout",
     "output_type": "stream",
     "text": [
      "0.938\n",
      "0.9637\n",
      "0.9576\n"
     ]
    }
   ],
   "source": [
    "from sklearn.model_selection import StratifiedKFold\n",
    "from sklearn.base import clone\n",
    "\n",
    "skfolds = StratifiedKFold(n_splits=3, random_state=42)\n",
    "\n",
    "for train_index, test_index in skfolds.split(data_train, labels_train_5):\n",
    "    clone_classifier = clone(sgd_classifier) # clone the classifier\n",
    "    data_train_folds = data_train[train_index]\n",
    "    labels_train_folds = labels_train_5[train_index]\n",
    "    data_test_fold = data_train[test_index]\n",
    "    labels_test_fold = labels_train_5[test_index]\n",
    "    \n",
    "    clone_classifier.fit(data_train_folds, labels_train_folds) # train the cloned clf.\n",
    "    label_predict = clone_classifier.predict(data_test_fold)\n",
    "    n_correct = sum(label_predict == labels_test_fold)\n",
    "    print(n_correct / len(label_predict))"
   ]
  },
  {
   "cell_type": "code",
   "execution_count": 104,
   "metadata": {},
   "outputs": [
    {
     "data": {
      "text/plain": [
       "array([0.938 , 0.9637, 0.9576])"
      ]
     },
     "execution_count": 104,
     "metadata": {},
     "output_type": "execute_result"
    }
   ],
   "source": [
    "# Now using the tools from sklearn, it should be the same as doing it manually\n",
    "from sklearn.model_selection import cross_val_score\n",
    "cross_val_score(sgd_classifier, data_train, labels_train_5, cv = 3, scoring = 'accuracy')"
   ]
  },
  {
   "cell_type": "code",
   "execution_count": null,
   "metadata": {},
   "outputs": [],
   "source": []
  }
 ],
 "metadata": {
  "kernelspec": {
   "display_name": "Python 3",
   "language": "python",
   "name": "python3"
  },
  "language_info": {
   "codemirror_mode": {
    "name": "ipython",
    "version": 3
   },
   "file_extension": ".py",
   "mimetype": "text/x-python",
   "name": "python",
   "nbconvert_exporter": "python",
   "pygments_lexer": "ipython3",
   "version": "3.7.0"
  }
 },
 "nbformat": 4,
 "nbformat_minor": 2
}
